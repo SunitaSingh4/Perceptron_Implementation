{
 "cells": [
  {
   "cell_type": "code",
   "execution_count": 184,
   "id": "478d106f",
   "metadata": {},
   "outputs": [],
   "source": [
    "import os\n",
    "import matplotlib.pyplot as plt\n",
    "import joblib\n",
    "import numpy as np\n",
    "import pandas as pd\n",
    "plt.style.use(\"fivethirtyeight\")\n"
   ]
  },
  {
   "cell_type": "code",
   "execution_count": 185,
   "id": "b21b7e4a",
   "metadata": {},
   "outputs": [
    {
     "name": "stdout",
     "output_type": "stream",
     "text": [
      "Requirement already satisfied: joblib in c:\\users\\sunita\\onedrive\\documents\\fullstacke\\deeplearningproject\\perceptron_implementation\\env\\lib\\site-packages (1.1.0)\n"
     ]
    }
   ],
   "source": [
    "!pip install joblib\n",
    "\n"
   ]
  },
  {
   "cell_type": "code",
   "execution_count": 248,
   "id": "b5fc9d45",
   "metadata": {},
   "outputs": [],
   "source": [
    "class perceptrons:\n",
    "    def __init__(self, eta: float=None, epochs: int=None):\n",
    "            self.weights=np.random.randn(3)*1e-4\n",
    "            self.eta=eta\n",
    "            self.epochs=epochs\n",
    "            \n",
    "    def _z_outcomes(self,inputs, weights):\n",
    "        return np.dot(inputs, weights)\n",
    "    \n",
    "    def activation_function(self, z):\n",
    "        return np.where(z > 0, 1, 0)\n",
    "            \n",
    "    def fit(self, X, y):\n",
    "            self.X=X\n",
    "            self.y=y\n",
    "            \n",
    "            X_with_bias=np.c_[self.X, -np.ones((len(self.X),1))]\n",
    "            print(f\"X with bias:\\n{X_with_bias}\")\n",
    "            \n",
    "            for epoch in range(self.epochs):\n",
    "                print(\"----\"*10)\n",
    "                print(f\"for each epoch>>{epoch+1}\")\n",
    "                print(\"--\"*10)\n",
    "                \n",
    "                z =self._z_outcomes(X_with_bias, self.weights)\n",
    "                y_hat=self.activation_function(z)\n",
    "                print(f\"predicted value after forward pass: \\n {y_hat}\")\n",
    "                \n",
    "                self.error=self.y-y_hat\n",
    "                print(f\"error: \\n {self.error}\")\n",
    "                                \n",
    "                self.weights=self.weights+self.eta*np.dot(X_with_bias.T, self.error)\n",
    "                print(f\" updated weight after epoch:{epoch+1}/{self.epochs}:\\n {self.weights}\")\n",
    "                print(f\"##\"*10)\n",
    "                \n",
    "    def predict(self, X):\n",
    "        X_with_bias=np.c_[self.X, -np.ones((len(self.X),1))]\n",
    "        z = self._z_outcomes(X_with_bias,self.weights)\n",
    "        return self.activation_function(z)"
   ]
  },
  {
   "cell_type": "code",
   "execution_count": null,
   "id": "a9712fcd",
   "metadata": {},
   "outputs": [],
   "source": []
  },
  {
   "cell_type": "code",
   "execution_count": 249,
   "id": "5915df80",
   "metadata": {},
   "outputs": [
    {
     "data": {
      "text/html": [
       "<div>\n",
       "<style scoped>\n",
       "    .dataframe tbody tr th:only-of-type {\n",
       "        vertical-align: middle;\n",
       "    }\n",
       "\n",
       "    .dataframe tbody tr th {\n",
       "        vertical-align: top;\n",
       "    }\n",
       "\n",
       "    .dataframe thead th {\n",
       "        text-align: right;\n",
       "    }\n",
       "</style>\n",
       "<table border=\"1\" class=\"dataframe\">\n",
       "  <thead>\n",
       "    <tr style=\"text-align: right;\">\n",
       "      <th></th>\n",
       "      <th>x1</th>\n",
       "      <th>x2</th>\n",
       "      <th>y</th>\n",
       "    </tr>\n",
       "  </thead>\n",
       "  <tbody>\n",
       "    <tr>\n",
       "      <th>0</th>\n",
       "      <td>0</td>\n",
       "      <td>0</td>\n",
       "      <td>0</td>\n",
       "    </tr>\n",
       "    <tr>\n",
       "      <th>1</th>\n",
       "      <td>0</td>\n",
       "      <td>1</td>\n",
       "      <td>1</td>\n",
       "    </tr>\n",
       "    <tr>\n",
       "      <th>2</th>\n",
       "      <td>1</td>\n",
       "      <td>0</td>\n",
       "      <td>1</td>\n",
       "    </tr>\n",
       "    <tr>\n",
       "      <th>3</th>\n",
       "      <td>1</td>\n",
       "      <td>1</td>\n",
       "      <td>1</td>\n",
       "    </tr>\n",
       "  </tbody>\n",
       "</table>\n",
       "</div>"
      ],
      "text/plain": [
       "   x1  x2  y\n",
       "0   0   0  0\n",
       "1   0   1  1\n",
       "2   1   0  1\n",
       "3   1   1  1"
      ]
     },
     "execution_count": 249,
     "metadata": {},
     "output_type": "execute_result"
    }
   ],
   "source": [
    "OR ={\n",
    "    \"x1\":[0,0,1,1],\n",
    "    \"x2\":[0,1,0,1],\n",
    "    \"y\":[0,1,1,1]\n",
    "}\n",
    "\n",
    "df_OR = pd.DataFrame(OR)\n",
    "df_OR"
   ]
  },
  {
   "cell_type": "code",
   "execution_count": 250,
   "id": "23730b46",
   "metadata": {},
   "outputs": [],
   "source": [
    "def prepare_data(df, target_col=\"y\"):\n",
    "    X=df.drop(target_col, axis=1)\n",
    "    y=df[target_col]\n",
    "    return X,y"
   ]
  },
  {
   "cell_type": "code",
   "execution_count": 251,
   "id": "2113a80e",
   "metadata": {},
   "outputs": [
    {
     "name": "stdout",
     "output_type": "stream",
     "text": [
      "X with bias:\n",
      "[[ 0.  0. -1.]\n",
      " [ 0.  1. -1.]\n",
      " [ 1.  0. -1.]\n",
      " [ 1.  1. -1.]]\n",
      "----------------------------------------\n",
      "for each epoch>>1\n",
      "--------------------\n",
      "predicted value after forward pass: \n",
      " [1 1 1 1]\n",
      "error: \n",
      " 0   -1\n",
      "1    0\n",
      "2    0\n",
      "3    0\n",
      "Name: y, dtype: int64\n",
      " updated weight after epoch:1/10:\n",
      " [-7.61170625e-05 -2.08285721e-04  9.97148077e-02]\n",
      "####################\n",
      "----------------------------------------\n",
      "for each epoch>>2\n",
      "--------------------\n",
      "predicted value after forward pass: \n",
      " [0 0 0 0]\n",
      "error: \n",
      " 0    0\n",
      "1    1\n",
      "2    1\n",
      "3    1\n",
      "Name: y, dtype: int64\n",
      " updated weight after epoch:2/10:\n",
      " [ 0.19992388  0.19979171 -0.20028519]\n",
      "####################\n",
      "----------------------------------------\n",
      "for each epoch>>3\n",
      "--------------------\n",
      "predicted value after forward pass: \n",
      " [1 1 1 1]\n",
      "error: \n",
      " 0   -1\n",
      "1    0\n",
      "2    0\n",
      "3    0\n",
      "Name: y, dtype: int64\n",
      " updated weight after epoch:3/10:\n",
      " [ 0.19992388  0.19979171 -0.10028519]\n",
      "####################\n",
      "----------------------------------------\n",
      "for each epoch>>4\n",
      "--------------------\n",
      "predicted value after forward pass: \n",
      " [1 1 1 1]\n",
      "error: \n",
      " 0   -1\n",
      "1    0\n",
      "2    0\n",
      "3    0\n",
      "Name: y, dtype: int64\n",
      " updated weight after epoch:4/10:\n",
      " [ 0.19992388  0.19979171 -0.00028519]\n",
      "####################\n",
      "----------------------------------------\n",
      "for each epoch>>5\n",
      "--------------------\n",
      "predicted value after forward pass: \n",
      " [1 1 1 1]\n",
      "error: \n",
      " 0   -1\n",
      "1    0\n",
      "2    0\n",
      "3    0\n",
      "Name: y, dtype: int64\n",
      " updated weight after epoch:5/10:\n",
      " [0.19992388 0.19979171 0.09971481]\n",
      "####################\n",
      "----------------------------------------\n",
      "for each epoch>>6\n",
      "--------------------\n",
      "predicted value after forward pass: \n",
      " [0 1 1 1]\n",
      "error: \n",
      " 0    0\n",
      "1    0\n",
      "2    0\n",
      "3    0\n",
      "Name: y, dtype: int64\n",
      " updated weight after epoch:6/10:\n",
      " [0.19992388 0.19979171 0.09971481]\n",
      "####################\n",
      "----------------------------------------\n",
      "for each epoch>>7\n",
      "--------------------\n",
      "predicted value after forward pass: \n",
      " [0 1 1 1]\n",
      "error: \n",
      " 0    0\n",
      "1    0\n",
      "2    0\n",
      "3    0\n",
      "Name: y, dtype: int64\n",
      " updated weight after epoch:7/10:\n",
      " [0.19992388 0.19979171 0.09971481]\n",
      "####################\n",
      "----------------------------------------\n",
      "for each epoch>>8\n",
      "--------------------\n",
      "predicted value after forward pass: \n",
      " [0 1 1 1]\n",
      "error: \n",
      " 0    0\n",
      "1    0\n",
      "2    0\n",
      "3    0\n",
      "Name: y, dtype: int64\n",
      " updated weight after epoch:8/10:\n",
      " [0.19992388 0.19979171 0.09971481]\n",
      "####################\n",
      "----------------------------------------\n",
      "for each epoch>>9\n",
      "--------------------\n",
      "predicted value after forward pass: \n",
      " [0 1 1 1]\n",
      "error: \n",
      " 0    0\n",
      "1    0\n",
      "2    0\n",
      "3    0\n",
      "Name: y, dtype: int64\n",
      " updated weight after epoch:9/10:\n",
      " [0.19992388 0.19979171 0.09971481]\n",
      "####################\n",
      "----------------------------------------\n",
      "for each epoch>>10\n",
      "--------------------\n",
      "predicted value after forward pass: \n",
      " [0 1 1 1]\n",
      "error: \n",
      " 0    0\n",
      "1    0\n",
      "2    0\n",
      "3    0\n",
      "Name: y, dtype: int64\n",
      " updated weight after epoch:10/10:\n",
      " [0.19992388 0.19979171 0.09971481]\n",
      "####################\n"
     ]
    }
   ],
   "source": [
    "X, y= prepare_data(df_OR)\n",
    "ETA=0.1\n",
    "EPOCHS=10\n",
    "\n",
    "model_or=perceptrons(eta=ETA, epochs=EPOCHS)\n",
    "model_or.fit(X,y)\n"
   ]
  },
  {
   "cell_type": "code",
   "execution_count": 252,
   "id": "4b3607af",
   "metadata": {},
   "outputs": [
    {
     "data": {
      "text/html": [
       "<div>\n",
       "<style scoped>\n",
       "    .dataframe tbody tr th:only-of-type {\n",
       "        vertical-align: middle;\n",
       "    }\n",
       "\n",
       "    .dataframe tbody tr th {\n",
       "        vertical-align: top;\n",
       "    }\n",
       "\n",
       "    .dataframe thead th {\n",
       "        text-align: right;\n",
       "    }\n",
       "</style>\n",
       "<table border=\"1\" class=\"dataframe\">\n",
       "  <thead>\n",
       "    <tr style=\"text-align: right;\">\n",
       "      <th></th>\n",
       "      <th>x1</th>\n",
       "      <th>x2</th>\n",
       "    </tr>\n",
       "  </thead>\n",
       "  <tbody>\n",
       "    <tr>\n",
       "      <th>0</th>\n",
       "      <td>0</td>\n",
       "      <td>0</td>\n",
       "    </tr>\n",
       "    <tr>\n",
       "      <th>1</th>\n",
       "      <td>0</td>\n",
       "      <td>1</td>\n",
       "    </tr>\n",
       "    <tr>\n",
       "      <th>2</th>\n",
       "      <td>1</td>\n",
       "      <td>0</td>\n",
       "    </tr>\n",
       "    <tr>\n",
       "      <th>3</th>\n",
       "      <td>1</td>\n",
       "      <td>1</td>\n",
       "    </tr>\n",
       "  </tbody>\n",
       "</table>\n",
       "</div>"
      ],
      "text/plain": [
       "   x1  x2\n",
       "0   0   0\n",
       "1   0   1\n",
       "2   1   0\n",
       "3   1   1"
      ]
     },
     "execution_count": 252,
     "metadata": {},
     "output_type": "execute_result"
    }
   ],
   "source": [
    "X"
   ]
  },
  {
   "cell_type": "code",
   "execution_count": 253,
   "id": "472f7769",
   "metadata": {},
   "outputs": [
    {
     "data": {
      "text/plain": [
       "array([0, 1, 1, 1])"
      ]
     },
     "execution_count": 253,
     "metadata": {},
     "output_type": "execute_result"
    }
   ],
   "source": [
    "model_or.predict(X)"
   ]
  },
  {
   "cell_type": "code",
   "execution_count": 247,
   "id": "3dafc080",
   "metadata": {},
   "outputs": [
    {
     "data": {
      "text/plain": [
       "array([[-1.],\n",
       "       [-1.],\n",
       "       [-1.],\n",
       "       [-1.]])"
      ]
     },
     "execution_count": 247,
     "metadata": {},
     "output_type": "execute_result"
    }
   ],
   "source": [
    "-np.ones((4,1))"
   ]
  },
  {
   "cell_type": "code",
   "execution_count": null,
   "id": "359a50ce",
   "metadata": {},
   "outputs": [],
   "source": [
    "X= np.ones((4,2))\n",
    "X"
   ]
  },
  {
   "cell_type": "code",
   "execution_count": null,
   "id": "d2b0d418",
   "metadata": {},
   "outputs": [],
   "source": [
    "obj=perceptrons(eta=0.01, epochs=10)"
   ]
  },
  {
   "cell_type": "code",
   "execution_count": null,
   "id": "1ebbab97",
   "metadata": {},
   "outputs": [],
   "source": [
    "obj.eta"
   ]
  },
  {
   "cell_type": "code",
   "execution_count": null,
   "id": "15a7f55e",
   "metadata": {},
   "outputs": [],
   "source": [
    "obj.epochs"
   ]
  },
  {
   "cell_type": "code",
   "execution_count": null,
   "id": "1c08f989",
   "metadata": {},
   "outputs": [],
   "source": [
    "obj.weights"
   ]
  },
  {
   "cell_type": "code",
   "execution_count": 165,
   "id": "602e0207",
   "metadata": {},
   "outputs": [
    {
     "data": {
      "text/html": [
       "<div>\n",
       "<style scoped>\n",
       "    .dataframe tbody tr th:only-of-type {\n",
       "        vertical-align: middle;\n",
       "    }\n",
       "\n",
       "    .dataframe tbody tr th {\n",
       "        vertical-align: top;\n",
       "    }\n",
       "\n",
       "    .dataframe thead th {\n",
       "        text-align: right;\n",
       "    }\n",
       "</style>\n",
       "<table border=\"1\" class=\"dataframe\">\n",
       "  <thead>\n",
       "    <tr style=\"text-align: right;\">\n",
       "      <th></th>\n",
       "      <th>x1</th>\n",
       "      <th>x2</th>\n",
       "    </tr>\n",
       "  </thead>\n",
       "  <tbody>\n",
       "    <tr>\n",
       "      <th>0</th>\n",
       "      <td>0</td>\n",
       "      <td>0</td>\n",
       "    </tr>\n",
       "    <tr>\n",
       "      <th>1</th>\n",
       "      <td>0</td>\n",
       "      <td>1</td>\n",
       "    </tr>\n",
       "    <tr>\n",
       "      <th>2</th>\n",
       "      <td>1</td>\n",
       "      <td>0</td>\n",
       "    </tr>\n",
       "    <tr>\n",
       "      <th>3</th>\n",
       "      <td>1</td>\n",
       "      <td>1</td>\n",
       "    </tr>\n",
       "  </tbody>\n",
       "</table>\n",
       "</div>"
      ],
      "text/plain": [
       "   x1  x2\n",
       "0   0   0\n",
       "1   0   1\n",
       "2   1   0\n",
       "3   1   1"
      ]
     },
     "execution_count": 165,
     "metadata": {},
     "output_type": "execute_result"
    }
   ],
   "source": [
    "X"
   ]
  },
  {
   "cell_type": "code",
   "execution_count": 166,
   "id": "f324b455",
   "metadata": {},
   "outputs": [],
   "source": [
    "y=np.ones((4,1))"
   ]
  },
  {
   "cell_type": "code",
   "execution_count": 167,
   "id": "9dd53970",
   "metadata": {},
   "outputs": [
    {
     "name": "stdout",
     "output_type": "stream",
     "text": [
      "X with bias:\n",
      "[[ 0.  0. -1.]\n",
      " [ 0.  1. -1.]\n",
      " [ 1.  0. -1.]\n",
      " [ 1.  1. -1.]]\n"
     ]
    }
   ],
   "source": [
    "obj.fit(X,y)"
   ]
  },
  {
   "cell_type": "code",
   "execution_count": 168,
   "id": "2e1234a2",
   "metadata": {},
   "outputs": [
    {
     "data": {
      "text/plain": [
       "array([[1.],\n",
       "       [1.],\n",
       "       [1.],\n",
       "       [1.]])"
      ]
     },
     "execution_count": 168,
     "metadata": {},
     "output_type": "execute_result"
    }
   ],
   "source": [
    "y"
   ]
  },
  {
   "cell_type": "code",
   "execution_count": 169,
   "id": "24b3452f",
   "metadata": {
    "collapsed": true
   },
   "outputs": [
    {
     "ename": "SyntaxError",
     "evalue": "invalid syntax (3694999374.py, line 1)",
     "output_type": "error",
     "traceback": [
      "\u001b[1;36m  File \u001b[1;32m\"C:\\Users\\sunita\\AppData\\Local\\Temp\\ipykernel_16380\\3694999374.py\"\u001b[1;36m, line \u001b[1;32m1\u001b[0m\n\u001b[1;33m    for epochs in range\u001b[0m\n\u001b[1;37m                       ^\u001b[0m\n\u001b[1;31mSyntaxError\u001b[0m\u001b[1;31m:\u001b[0m invalid syntax\n"
     ]
    }
   ],
   "source": []
  },
  {
   "cell_type": "code",
   "execution_count": null,
   "id": "1444f4b0",
   "metadata": {},
   "outputs": [],
   "source": []
  },
  {
   "cell_type": "code",
   "execution_count": null,
   "id": "db2a4401",
   "metadata": {},
   "outputs": [],
   "source": []
  }
 ],
 "metadata": {
  "kernelspec": {
   "display_name": "Python 3 (ipykernel)",
   "language": "python",
   "name": "python3"
  },
  "language_info": {
   "codemirror_mode": {
    "name": "ipython",
    "version": 3
   },
   "file_extension": ".py",
   "mimetype": "text/x-python",
   "name": "python",
   "nbconvert_exporter": "python",
   "pygments_lexer": "ipython3",
   "version": "3.7.11"
  }
 },
 "nbformat": 4,
 "nbformat_minor": 5
}
